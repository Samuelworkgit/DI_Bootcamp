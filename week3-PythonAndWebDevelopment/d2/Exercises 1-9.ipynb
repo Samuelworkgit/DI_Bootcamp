{
 "cells": [
  {
   "cell_type": "code",
   "execution_count": 8,
   "metadata": {},
   "outputs": [
    {
     "name": "stdout",
     "output_type": "stream",
     "text": [
      "Hello world\n",
      "Hello world\n",
      "Hello world\n",
      "Hello world\n",
      "Hello world\n",
      "\n"
     ]
    }
   ],
   "source": [
    "# Exercise 1\n",
    "print(\"Hello world\\n\" * 5)"
   ]
  },
  {
   "cell_type": "code",
   "execution_count": 13,
   "metadata": {},
   "outputs": [
    {
     "name": "stdout",
     "output_type": "stream",
     "text": [
      "7762392\n"
     ]
    }
   ],
   "source": [
    "# Exercise 2\n",
    "numstart = 99\n",
    "num = 99\n",
    "for i in range(2):\n",
    "    num = num * numstart\n",
    "\n",
    "print(num*8)"
   ]
  },
  {
   "cell_type": "code",
   "execution_count": null,
   "metadata": {},
   "outputs": [],
   "source": [
    "# Exercie 3\n",
    "False\n",
    "True\n",
    "False\n",
    "False\n",
    "True"
   ]
  },
  {
   "cell_type": "code",
   "execution_count": 16,
   "metadata": {},
   "outputs": [
    {
     "name": "stdout",
     "output_type": "stream",
     "text": [
      "I have a bad computer\n"
     ]
    }
   ],
   "source": [
    "# Exercise 4\n",
    "computer_brand = \"bad\"\n",
    "\n",
    "print(f\"I have a {computer_brand} computer\")"
   ]
  },
  {
   "cell_type": "code",
   "execution_count": 17,
   "metadata": {},
   "outputs": [
    {
     "name": "stdout",
     "output_type": "stream",
     "text": [
      "hi my name is Samuel, i am 20 yrs old. I wear siz 42 shoes.\n"
     ]
    }
   ],
   "source": [
    "# Exercise 5\n",
    "name = 'samuel'\n",
    "age = '20'\n",
    "shoe_size = 42\n",
    "info = f\"hi my name is {name}, i am {age} yrs old. I wear siz {shoe_size} shoes.\"\n",
    "\n",
    "print(info)"
   ]
  },
  {
   "cell_type": "code",
   "execution_count": 19,
   "metadata": {},
   "outputs": [],
   "source": [
    "# Exercise 6\n",
    "a = 4\n",
    "b = 2\n",
    "\n",
    "if a>b:\n",
    "    print(\"Hello world\")"
   ]
  },
  {
   "cell_type": "code",
   "execution_count": 4,
   "metadata": {},
   "outputs": [
    {
     "name": "stdout",
     "output_type": "stream",
     "text": [
      "Odd\n"
     ]
    }
   ],
   "source": [
    "# Exercise 7\n",
    "num = input(\"enter num: \")\n",
    "test = 0\n",
    "num = int(num)\n",
    "\n",
    "while test<num:\n",
    "    test=test+2\n",
    "if test==num:\n",
    "    print(\"Even\")\n",
    "else:\n",
    "    print(\"Odd\")\n"
   ]
  },
  {
   "cell_type": "code",
   "execution_count": 7,
   "metadata": {},
   "outputs": [
    {
     "name": "stdout",
     "output_type": "stream",
     "text": [
      "ok\n"
     ]
    }
   ],
   "source": [
    "# Exercise 8\n",
    "my_name='samuel'\n",
    "\n",
    "if input(\"enter ur name\")==my_name:\n",
    "    print(\"to pa pu croire!!\")\n",
    "else:\n",
    "    print(\"ok\")"
   ]
  },
  {
   "cell_type": "code",
   "execution_count": 10,
   "metadata": {},
   "outputs": [
    {
     "name": "stdout",
     "output_type": "stream",
     "text": [
      "Tall enough\n"
     ]
    }
   ],
   "source": [
    "# Exercie 9\n",
    "if int(input(\"input ur height in cm:\"))>145:\n",
    "    print('Tall enough')\n",
    "else:\n",
    "    print(\"gro som mor\")"
   ]
  }
 ],
 "metadata": {
  "kernelspec": {
   "display_name": "Python 3",
   "language": "python",
   "name": "python3"
  },
  "language_info": {
   "codemirror_mode": {
    "name": "ipython",
    "version": 3
   },
   "file_extension": ".py",
   "mimetype": "text/x-python",
   "name": "python",
   "nbconvert_exporter": "python",
   "pygments_lexer": "ipython3",
   "version": "3.12.4"
  }
 },
 "nbformat": 4,
 "nbformat_minor": 2
}
